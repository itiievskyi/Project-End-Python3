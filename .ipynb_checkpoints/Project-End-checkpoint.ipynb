{
 "cells": [
  {
   "cell_type": "code",
   "execution_count": 1,
   "metadata": {
    "scrolled": true
   },
   "outputs": [],
   "source": [
    "# Standard libraries\n",
    "from time import strptime\n",
    "import datetime\n",
    "\n",
    "# Side libraries\n",
    "import holidays\n",
    "import ipywidgets as widgets\n",
    "\n",
    "# Initializing country list that contains all countries supported by 'holidays'\n",
    "COUNTRIES = ['Argentina', 'Australia', 'Austria', 'Belarus',\n",
    "             'Belgium', 'Brazil', 'Canada', 'Colombia', 'Croatia', 'Czech',\n",
    "             'Denmark', 'England', 'Finland', 'France', 'Germany', 'Hungary',\n",
    "             'India', 'Ireland', 'Isle of Man', 'Italy', 'Japan', 'Mexico',\n",
    "             'Netherlands', 'NewZealand', 'Northern Ireland', 'Norway',\n",
    "             'Polish', 'Portugal', 'Portugal Ext', 'Scotland', 'Slovenia',\n",
    "             'Slovakia', 'South Africa', 'Spain', 'Sweden', 'Switzerland',\n",
    "             'Ukraine', 'United Kingdom', 'United States', 'Wales']\n",
    "\n",
    "PROVINCES = {\n",
    "    'Australia':['ACT', 'NSW', 'NT', 'QLD', 'SA', 'TAS', 'VIC', 'WA'],\n",
    "    'Austria':['B', 'K', 'N', 'O', 'S', 'ST', 'T', 'V', 'W'],\n",
    "    'Brazil':['AC', 'AL', 'AP', 'AM', 'BA', 'CE', 'DF', 'ES', 'GO', 'MA', 'MT',\n",
    "              'MS', 'MG', 'PA', 'PB', 'PE', 'PI', 'RJ', 'RN', 'RS', 'RO', 'RR',\n",
    "              'SC', 'SP', 'SE', 'TO'],\n",
    "    'Canada':['AB', 'BC', 'MB', 'NB', 'NL', 'NS', 'NT', 'NU', 'ON', 'PE', 'QC',\n",
    "              'SK', 'YU'],\n",
    "    'France':['Métropole', 'Alsace-Moselle', 'Guadeloupe', 'Guyane',\n",
    "              'Martinique', 'Mayotte', 'Nouvelle-Calédonie', 'La Réunion',\n",
    "              'Polynésie Française', 'Saint-Barthélémy', 'Saint-Martin',\n",
    "              'Wallis-et-Futuna'],\n",
    "    'Germany':['BW', 'BY', 'BE', 'BB', 'HB', 'HH', 'HE', 'MV', 'NI', 'NW', 'RP',\n",
    "               'SL', 'SN', 'ST', 'SH', 'TH'],\n",
    "    'India':['AS', 'SK', 'CG', 'KA', 'GJ', 'BR', 'RJ', 'OD', 'TN', 'AP', 'WB',\n",
    "             'KL', 'HR', 'MH', 'MP', 'UP', 'UK', 'TN'],\n",
    "    'Italy':['MI', 'RM'],\n",
    "    'NewZealand':['NTL', 'AUK', 'TKI', 'HKB', 'WGN', 'MBH', 'NSN', 'CAN', 'STC',\n",
    "                  'WTL', 'OTA', 'STL', 'CIT'],\n",
    "    'Spain':['AND', 'ARG', 'AST', 'CAN', 'CAM', 'CAL', 'CAT', 'CVA', 'EXT',\n",
    "             'GAL', 'IBA', 'ICA', 'MAD', 'MUR', 'NAV', 'PVA', 'RIO'],\n",
    "    'Switzerland':['AG', 'AR', 'AI', 'BL', 'BS', 'BE', 'FR', 'GE', 'GL', 'GR',\n",
    "                   'JU', 'LU', 'NE', 'NW', 'OW', 'SG', 'SH', 'SZ', 'SO', 'TG',\n",
    "                   'TI', 'UR', 'VD', 'VS', 'ZG', 'ZH'],\n",
    "    'UnitedStates':['AL', 'AK', 'AS', 'AZ', 'AR', 'CA', 'CO', 'CT', 'DE', 'DC',\n",
    "                    'FL', 'GA', 'GU', 'HI', 'ID', 'IL', 'IN', 'IA', 'KS', 'KY',\n",
    "                    'LA', 'ME', 'MD', 'MH', 'MA', 'MI', 'FM', 'MN', 'MS', 'MO',\n",
    "                    'MT', 'NE', 'NV', 'NH', 'NJ', 'NM', 'NY', 'NC', 'ND', 'MP',\n",
    "                    'OH', 'OK', 'OR', 'PW', 'PA', 'PR', 'RI', 'SC', 'SD', 'TN',\n",
    "                    'TX', 'UT', 'VT', 'VA', 'VI', 'WA', 'WV', 'WI', 'WY']\n",
    "}\n",
    "\n",
    "def calculate_project_duration(fe_devs, fe_task, be_devs, be_task):\n",
    "    '''\n",
    "    Returns the number of days required to complete all tasks\n",
    "    '''\n",
    "    fe_hours = 0\n",
    "    be_hours = 0\n",
    "    # Calculating required number of hours for both front-end and back-end tasks\n",
    "    try:\n",
    "        if fe_task > 0:\n",
    "            fe_hours = fe_task / fe_devs\n",
    "        if be_task > 0:\n",
    "            be_hours = be_task / be_devs\n",
    "    except ZeroDivisionError:\n",
    "        print('It seems like you have no enough developers to finish the task.')\n",
    "        return -1\n",
    "\n",
    "    # Calculating the number of days (rounding up without using a 'math')\n",
    "    max_days = max(fe_hours, be_hours) / 8 + (max(fe_hours, be_hours) % 8 > 0)\n",
    "\n",
    "    return int(max_days)\n",
    "\n",
    "def get_holidays(country, state_prov, years):\n",
    "    '''\n",
    "    Creates a dictionary that contains all public national holidays for\n",
    "    specific country, state or province and for period specified in 'years' list\n",
    "    '''\n",
    "    state = None\n",
    "    province = None\n",
    "\n",
    "    # Defining if there is any state or province specified\n",
    "    if state_prov != '':\n",
    "        if country in ['US', 'BR']:\n",
    "            state = state_prov\n",
    "        else:\n",
    "            province = state_prov\n",
    "\n",
    "    # Sending a request to 'holidays' library API\n",
    "    holydays_list = getattr(holidays, country)(\n",
    "        state=state,\n",
    "        prov=province,\n",
    "        years=years\n",
    "    )\n",
    "\n",
    "    return holydays_list\n",
    "\n",
    "def get_end_date(start_date, proj_days, holidays_schedule, observe):\n",
    "    '''\n",
    "    Calculates the end date of the project based on start date, duration and\n",
    "    considering that people don't work on weekends and holidays\n",
    "    '''\n",
    "\n",
    "    current_date = start_date\n",
    "    weekend_days = 0\n",
    "    holiday_days = 0\n",
    "    days_to_observe = 0\n",
    "\n",
    "    if proj_days > 0:\n",
    "\n",
    "        days_to_add = proj_days\n",
    "\n",
    "        current_date = start_date - datetime.timedelta(days=1)\n",
    "\n",
    "        while days_to_add > 0:\n",
    "            current_date += datetime.timedelta(days=1)\n",
    "            weekday = current_date.weekday()\n",
    "            # Checking if the the day falls on weekend\n",
    "            if weekday >= 5:\n",
    "                weekend_days += 1\n",
    "                if observe and current_date in holidays_schedule:\n",
    "                    holiday_days += 1\n",
    "                    days_to_observe += 1\n",
    "                continue\n",
    "            elif days_to_observe > 0:\n",
    "                days_to_observe -= 1\n",
    "                continue\n",
    "            # Checking if the day doesn't fall on weekend but it's a holiday\n",
    "            if current_date in holidays_schedule:\n",
    "                holiday_days += 1\n",
    "                continue\n",
    "            days_to_add -= 1\n",
    "\n",
    "    end_data = {\n",
    "        'date':current_date.strftime(\"%Y-%m-%d\"),\n",
    "        'holidays':holiday_days,\n",
    "        'weekends':weekend_days\n",
    "    }\n",
    "\n",
    "    return end_data\n",
    "\n",
    "def main(fe_devs=1, fe_task=10, be_devs=1, be_task=10, start_date=datetime.datetime.now(), country='UnitedStates', state_prov='-NONE-', observe=True):\n",
    "    '''\n",
    "    The main function that calls all other ones and collect all the data\n",
    "    '''\n",
    "\n",
    "    # Calculating the project duration in days\n",
    "    proj_days = calculate_project_duration(fe_devs, fe_task, be_devs, be_task)\n",
    "\n",
    "    if proj_days == -1:\n",
    "        print('Please try again.')\n",
    "        return\n",
    "\n",
    "    # Parsing the starting year from the project start date\n",
    "    try:\n",
    "        min_year = int(start_date.year)\n",
    "    except:\n",
    "        print('Error! Please enter a valid date.')\n",
    "        return\n",
    "    # Calculating the max project year based on project duration\n",
    "    max_year = int(min_year + (proj_days / 260) + 1)\n",
    "\n",
    "    # Getting the list (dict) of public holidays for specific region and years\n",
    "    try:\n",
    "        holidays_schedule = get_holidays(country.replace(' ', ''), state_prov, [y for y in range(min_year, max_year)])\n",
    "    except:\n",
    "        print('Error! The end date is out of date range. Please try again.')\n",
    "        return\n",
    "\n",
    "    # Getting the end date of the project along with non-working days stats\n",
    "    end_date = get_end_date(start_date, proj_days, holidays_schedule, observe)\n",
    "\n",
    "    # Printing the result\n",
    "    print(f'Developers need {proj_days} working day(s) to finish the job.')\n",
    "    print(f'The estimated end date of the project is: {end_date[\"date\"]}.')\n",
    "    print(f'There will be {end_date[\"weekends\"]} weekend day(s) and',\n",
    "          f'{end_date[\"holidays\"]} holiday(s) during the working period.')"
   ]
  },
  {
   "cell_type": "code",
   "execution_count": 2,
   "metadata": {},
   "outputs": [
    {
     "data": {
      "application/vnd.jupyter.widget-view+json": {
       "model_id": "a267797de4f54952ad59f7d785339d87",
       "version_major": 2,
       "version_minor": 0
      },
      "text/plain": [
       "Label(value='Welcome to Project End Planner! Please choose the values to get the result.')"
      ]
     },
     "metadata": {},
     "output_type": "display_data"
    },
    {
     "data": {
      "application/vnd.jupyter.widget-view+json": {
       "model_id": "513c4cbc0c4a4273ab6897dafb322d76",
       "version_major": 2,
       "version_minor": 0
      },
      "text/plain": [
       "HBox(children=(DatePicker(value=datetime.datetime(2019, 1, 3, 17, 55, 1, 851245), description='Start date'),))"
      ]
     },
     "metadata": {},
     "output_type": "display_data"
    },
    {
     "data": {
      "application/vnd.jupyter.widget-view+json": {
       "model_id": "7b3e5d9c756e42cdb4c5b1032bedafe2",
       "version_major": 2,
       "version_minor": 0
      },
      "text/plain": [
       "HBox(children=(BoundedIntText(value=1, description='FE devs:', max=1000000), BoundedIntText(value=20, descript…"
      ]
     },
     "metadata": {},
     "output_type": "display_data"
    },
    {
     "data": {
      "application/vnd.jupyter.widget-view+json": {
       "model_id": "b7af62367f804f288111dd431c68ede5",
       "version_major": 2,
       "version_minor": 0
      },
      "text/plain": [
       "HBox(children=(BoundedIntText(value=1, description='BE devs:', max=1000000), BoundedIntText(value=20, descript…"
      ]
     },
     "metadata": {},
     "output_type": "display_data"
    },
    {
     "data": {
      "application/vnd.jupyter.widget-view+json": {
       "model_id": "3b5891bfe4004c4ba0cd011967fe9530",
       "version_major": 2,
       "version_minor": 0
      },
      "text/plain": [
       "HBox(children=(Dropdown(description='Country:', index=38, options=('Argentina', 'Australia', 'Austria', 'Belar…"
      ]
     },
     "metadata": {},
     "output_type": "display_data"
    },
    {
     "data": {
      "application/vnd.jupyter.widget-view+json": {
       "model_id": "c5cacedaf0794dbbb72dc3d622ae9ab4",
       "version_major": 2,
       "version_minor": 0
      },
      "text/plain": [
       "HBox(children=(Checkbox(value=True, description='Toggle observation'),))"
      ]
     },
     "metadata": {},
     "output_type": "display_data"
    },
    {
     "data": {
      "application/vnd.jupyter.widget-view+json": {
       "model_id": "492033225de74e4a867affb5b07dda96",
       "version_major": 2,
       "version_minor": 0
      },
      "text/plain": [
       "Output()"
      ]
     },
     "metadata": {},
     "output_type": "display_data"
    }
   ],
   "source": [
    "caption = widgets.Label(value='Welcome to Project End Planner! Please choose the values to get the result.')\n",
    "# Creating widgets\n",
    "start_date_picker = widgets.DatePicker(\n",
    "    description='Start date',\n",
    "    value=datetime.datetime.now(),\n",
    "    disabled=False\n",
    ")\n",
    "\n",
    "fe_devs_input = widgets.BoundedIntText(\n",
    "    min=0,\n",
    "    max=1000000,\n",
    "    value=1,\n",
    "    width=2000,\n",
    "    description='FE devs:',\n",
    "    disabled=False\n",
    ")\n",
    "\n",
    "be_devs_input = widgets.BoundedIntText(\n",
    "    min=0,\n",
    "    max=1000000,\n",
    "    value=1,\n",
    "    description='BE devs:',\n",
    "    disabled=False\n",
    ")\n",
    "\n",
    "fe_task_input = widgets.BoundedIntText(\n",
    "    min=0,\n",
    "    max=1000000,\n",
    "    value=20,\n",
    "    description='FE task:',\n",
    "    disabled=False\n",
    ")\n",
    "\n",
    "be_task_input = widgets.BoundedIntText(\n",
    "    min=0,\n",
    "    max=1000000,\n",
    "    value=20,\n",
    "    description='BE task:',\n",
    "    disabled=False\n",
    ")\n",
    "\n",
    "country_picker = widgets.Dropdown(\n",
    "    options=COUNTRIES,\n",
    "    value='United States',\n",
    "    description='Country:',\n",
    "    disabled=False,\n",
    ")\n",
    "\n",
    "province_picker = widgets.Dropdown(\n",
    "    options=(['-NONE-'] + PROVINCES['UnitedStates']),\n",
    "    value='-NONE-',\n",
    "    description='Province:',\n",
    "    disabled=False,\n",
    ")\n",
    "\n",
    "observe_checkbox = widgets.Checkbox(\n",
    "    value=True,\n",
    "    description='Toggle observation',\n",
    "    disabled=False\n",
    ")\n",
    "\n",
    "# Creating a dependency between country and provinces\n",
    "def check_provinces(change):\n",
    "    country = country_picker.value.replace(' ', '')\n",
    "    if country in PROVINCES.keys():\n",
    "        province_picker.options = ['-NONE-'] + PROVINCES[country]\n",
    "    else:\n",
    "        province_picker.options = ['-NONE-']\n",
    "        province_picker.value = '-NONE-'\n",
    "\n",
    "country_picker.observe(check_provinces)\n",
    "\n",
    "# Creating HBox objects for correct displaying\n",
    "ui_1 = widgets.HBox([start_date_picker])\n",
    "ui_2 = widgets.HBox([fe_devs_input, fe_task_input])\n",
    "ui_3 = widgets.HBox([be_devs_input, be_task_input])\n",
    "ui_4 = widgets.HBox([country_picker, province_picker])\n",
    "ui_5 = widgets.HBox([observe_checkbox])\n",
    "\n",
    "# Assigning widgets values to function arguments\n",
    "out = widgets.interactive_output(main, {'fe_devs':fe_devs_input, 'fe_task':fe_task_input, 'be_devs':be_devs_input, 'be_task':be_task_input, 'start_date':start_date_picker, 'country':country_picker, 'observe':observe_checkbox, 'state_prov':province_picker})\n",
    "\n",
    "# Displaying widgets\n",
    "display(caption, ui_1, ui_2, ui_3, ui_4, ui_5, out)"
   ]
  },
  {
   "cell_type": "code",
   "execution_count": null,
   "metadata": {},
   "outputs": [],
   "source": []
  }
 ],
 "metadata": {
  "kernelspec": {
   "display_name": "Python 3",
   "language": "python",
   "name": "python3"
  },
  "language_info": {
   "codemirror_mode": {
    "name": "ipython",
    "version": 3
   },
   "file_extension": ".py",
   "mimetype": "text/x-python",
   "name": "python",
   "nbconvert_exporter": "python",
   "pygments_lexer": "ipython3",
   "version": "3.7.1"
  }
 },
 "nbformat": 4,
 "nbformat_minor": 2
}
